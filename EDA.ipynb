{
 "cells": [
  {
   "attachments": {},
   "cell_type": "markdown",
   "metadata": {},
   "source": [
    "### Análisis exploratorio de los datos"
   ]
  },
  {
   "attachments": {},
   "cell_type": "markdown",
   "metadata": {},
   "source": [
    "Importamos las librerias necesarias"
   ]
  },
  {
   "cell_type": "code",
   "execution_count": 125,
   "metadata": {},
   "outputs": [],
   "source": [
    "# Librería para manejo y análisis de estructuras de datos\n",
    "import pandas as pd \n",
    "\n",
    "# librería para la creación de gráficos en dos dimensiones\n",
    "import matplotlib.pyplot as plt\n",
    "\n",
    "# Libreria de visualizacion de datos \n",
    "import seaborn as sns\n",
    "\n",
    "# Libreria para cálculo matemático y manejo de arrays\n",
    "import numpy as np"
   ]
  },
  {
   "attachments": {},
   "cell_type": "markdown",
   "metadata": {},
   "source": [
    "Leemos los datasets y creamos el Dataframe con el que trabajaremos \"data_train\" y con el que realizaremos las predicciones \"data_test\""
   ]
  },
  {
   "cell_type": "code",
   "execution_count": 134,
   "metadata": {},
   "outputs": [],
   "source": [
    "data_train = pd.read_csv(r\"C:\\Users\\Usuario\\Desktop\\Machine Learning\\Datathon\\hospitalizaciones_train.csv\")\n",
    "data_test = pd.read_csv(r\"C:\\Users\\Usuario\\Desktop\\Machine Learning\\Datathon\\hospitalizaciones_test.csv\")"
   ]
  },
  {
   "attachments": {},
   "cell_type": "markdown",
   "metadata": {},
   "source": [
    "Exploramos la información de los datasets, corroboro la existencia de datos nulos"
   ]
  },
  {
   "cell_type": "code",
   "execution_count": 127,
   "metadata": {},
   "outputs": [
    {
     "name": "stdout",
     "output_type": "stream",
     "text": [
      "<class 'pandas.core.frame.DataFrame'>\n",
      "RangeIndex: 410000 entries, 0 to 409999\n",
      "Data columns (total 15 columns):\n",
      " #   Column                             Non-Null Count   Dtype  \n",
      "---  ------                             --------------   -----  \n",
      " 0   Available Extra Rooms in Hospital  410000 non-null  int64  \n",
      " 1   Department                         410000 non-null  object \n",
      " 2   Ward_Facility_Code                 410000 non-null  object \n",
      " 3   doctor_name                        410000 non-null  object \n",
      " 4   staff_available                    410000 non-null  int64  \n",
      " 5   patientid                          410000 non-null  int64  \n",
      " 6   Age                                410000 non-null  object \n",
      " 7   gender                             410000 non-null  object \n",
      " 8   Type of Admission                  410000 non-null  object \n",
      " 9   Severity of Illness                410000 non-null  object \n",
      " 10  health_conditions                  410000 non-null  object \n",
      " 11  Visitors with Patient              410000 non-null  int64  \n",
      " 12  Insurance                          410000 non-null  object \n",
      " 13  Admission_Deposit                  410000 non-null  float64\n",
      " 14  Stay (in days)                     410000 non-null  int64  \n",
      "dtypes: float64(1), int64(5), object(9)\n",
      "memory usage: 46.9+ MB\n"
     ]
    }
   ],
   "source": [
    "data_train.info()"
   ]
  },
  {
   "cell_type": "code",
   "execution_count": 128,
   "metadata": {},
   "outputs": [
    {
     "name": "stdout",
     "output_type": "stream",
     "text": [
      "<class 'pandas.core.frame.DataFrame'>\n",
      "RangeIndex: 90000 entries, 0 to 89999\n",
      "Data columns (total 14 columns):\n",
      " #   Column                             Non-Null Count  Dtype  \n",
      "---  ------                             --------------  -----  \n",
      " 0   Available Extra Rooms in Hospital  90000 non-null  int64  \n",
      " 1   Department                         90000 non-null  object \n",
      " 2   Ward_Facility_Code                 90000 non-null  object \n",
      " 3   doctor_name                        90000 non-null  object \n",
      " 4   staff_available                    90000 non-null  int64  \n",
      " 5   patientid                          90000 non-null  int64  \n",
      " 6   Age                                90000 non-null  object \n",
      " 7   gender                             90000 non-null  object \n",
      " 8   Type of Admission                  90000 non-null  object \n",
      " 9   Severity of Illness                90000 non-null  object \n",
      " 10  health_conditions                  90000 non-null  object \n",
      " 11  Visitors with Patient              90000 non-null  int64  \n",
      " 12  Insurance                          90000 non-null  object \n",
      " 13  Admission_Deposit                  90000 non-null  float64\n",
      "dtypes: float64(1), int64(4), object(9)\n",
      "memory usage: 9.6+ MB\n"
     ]
    }
   ],
   "source": [
    "data_test.info()"
   ]
  },
  {
   "cell_type": "code",
   "execution_count": 129,
   "metadata": {},
   "outputs": [
    {
     "name": "stdout",
     "output_type": "stream",
     "text": [
      "Registros nulos en train:  0\n",
      "Registros nulos en test:  0\n"
     ]
    }
   ],
   "source": [
    "print ('Registros nulos en train: ' , data_train.isna().sum().sum())\n",
    "print ('Registros nulos en test: ' , data_test.isna().sum().sum())"
   ]
  },
  {
   "attachments": {},
   "cell_type": "markdown",
   "metadata": {},
   "source": [
    "Corroboro la existencia de duplicados"
   ]
  },
  {
   "cell_type": "code",
   "execution_count": 130,
   "metadata": {},
   "outputs": [
    {
     "name": "stdout",
     "output_type": "stream",
     "text": [
      "Registros duplicados en train: 0\n",
      "Registros duplicados en test: 0\n"
     ]
    }
   ],
   "source": [
    "data_train[data_train.duplicated()]\n",
    "print ('Registros duplicados en train:' , data_train.duplicated().sum())\n",
    "\n",
    "data_test[data_test.duplicated()]\n",
    "print ('Registros duplicados en test:' , data_test.duplicated().sum())"
   ]
  },
  {
   "attachments": {},
   "cell_type": "markdown",
   "metadata": {},
   "source": [
    " Creo una columna 'Stay', en base a la columna 'Stay (in days)'. Obtengo 0 para estadias cortas, la cual se considera que es 8 o menos dias, y obtengo 1 para estadias largas, consideradas de 8 dias en adelante"
   ]
  },
  {
   "cell_type": "code",
   "execution_count": 135,
   "metadata": {},
   "outputs": [],
   "source": [
    "data_train[\"Stay\"]=np.where(data_train[\"Stay (in days)\"]>8,1,0)"
   ]
  },
  {
   "cell_type": "code",
   "execution_count": 136,
   "metadata": {},
   "outputs": [
    {
     "data": {
      "text/html": [
       "<div>\n",
       "<style scoped>\n",
       "    .dataframe tbody tr th:only-of-type {\n",
       "        vertical-align: middle;\n",
       "    }\n",
       "\n",
       "    .dataframe tbody tr th {\n",
       "        vertical-align: top;\n",
       "    }\n",
       "\n",
       "    .dataframe thead th {\n",
       "        text-align: right;\n",
       "    }\n",
       "</style>\n",
       "<table border=\"1\" class=\"dataframe\">\n",
       "  <thead>\n",
       "    <tr style=\"text-align: right;\">\n",
       "      <th></th>\n",
       "      <th>Available Extra Rooms in Hospital</th>\n",
       "      <th>Department</th>\n",
       "      <th>Ward_Facility_Code</th>\n",
       "      <th>doctor_name</th>\n",
       "      <th>staff_available</th>\n",
       "      <th>patientid</th>\n",
       "      <th>Age</th>\n",
       "      <th>gender</th>\n",
       "      <th>Type of Admission</th>\n",
       "      <th>Severity of Illness</th>\n",
       "      <th>health_conditions</th>\n",
       "      <th>Visitors with Patient</th>\n",
       "      <th>Insurance</th>\n",
       "      <th>Admission_Deposit</th>\n",
       "      <th>Stay (in days)</th>\n",
       "      <th>Stay</th>\n",
       "    </tr>\n",
       "  </thead>\n",
       "  <tbody>\n",
       "    <tr>\n",
       "      <th>0</th>\n",
       "      <td>4</td>\n",
       "      <td>gynecology</td>\n",
       "      <td>D</td>\n",
       "      <td>Dr Sophia</td>\n",
       "      <td>0</td>\n",
       "      <td>33070</td>\n",
       "      <td>41-50</td>\n",
       "      <td>Female</td>\n",
       "      <td>Trauma</td>\n",
       "      <td>Extreme</td>\n",
       "      <td>Diabetes</td>\n",
       "      <td>4</td>\n",
       "      <td>Yes</td>\n",
       "      <td>2966.408696</td>\n",
       "      <td>8</td>\n",
       "      <td>0</td>\n",
       "    </tr>\n",
       "    <tr>\n",
       "      <th>1</th>\n",
       "      <td>4</td>\n",
       "      <td>gynecology</td>\n",
       "      <td>B</td>\n",
       "      <td>Dr Sophia</td>\n",
       "      <td>2</td>\n",
       "      <td>34808</td>\n",
       "      <td>31-40</td>\n",
       "      <td>Female</td>\n",
       "      <td>Trauma</td>\n",
       "      <td>Minor</td>\n",
       "      <td>Heart disease</td>\n",
       "      <td>2</td>\n",
       "      <td>No</td>\n",
       "      <td>3554.835677</td>\n",
       "      <td>9</td>\n",
       "      <td>1</td>\n",
       "    </tr>\n",
       "    <tr>\n",
       "      <th>2</th>\n",
       "      <td>2</td>\n",
       "      <td>gynecology</td>\n",
       "      <td>B</td>\n",
       "      <td>Dr Sophia</td>\n",
       "      <td>8</td>\n",
       "      <td>44577</td>\n",
       "      <td>21-30</td>\n",
       "      <td>Female</td>\n",
       "      <td>Trauma</td>\n",
       "      <td>Extreme</td>\n",
       "      <td>Diabetes</td>\n",
       "      <td>2</td>\n",
       "      <td>Yes</td>\n",
       "      <td>5624.733654</td>\n",
       "      <td>7</td>\n",
       "      <td>0</td>\n",
       "    </tr>\n",
       "    <tr>\n",
       "      <th>3</th>\n",
       "      <td>4</td>\n",
       "      <td>gynecology</td>\n",
       "      <td>D</td>\n",
       "      <td>Dr Olivia</td>\n",
       "      <td>7</td>\n",
       "      <td>3695</td>\n",
       "      <td>31-40</td>\n",
       "      <td>Female</td>\n",
       "      <td>Urgent</td>\n",
       "      <td>Moderate</td>\n",
       "      <td>None</td>\n",
       "      <td>4</td>\n",
       "      <td>No</td>\n",
       "      <td>4814.149231</td>\n",
       "      <td>8</td>\n",
       "      <td>0</td>\n",
       "    </tr>\n",
       "    <tr>\n",
       "      <th>4</th>\n",
       "      <td>2</td>\n",
       "      <td>anesthesia</td>\n",
       "      <td>E</td>\n",
       "      <td>Dr Mark</td>\n",
       "      <td>10</td>\n",
       "      <td>108956</td>\n",
       "      <td>71-80</td>\n",
       "      <td>Male</td>\n",
       "      <td>Trauma</td>\n",
       "      <td>Moderate</td>\n",
       "      <td>Diabetes</td>\n",
       "      <td>2</td>\n",
       "      <td>No</td>\n",
       "      <td>5169.269637</td>\n",
       "      <td>34</td>\n",
       "      <td>1</td>\n",
       "    </tr>\n",
       "  </tbody>\n",
       "</table>\n",
       "</div>"
      ],
      "text/plain": [
       "   Available Extra Rooms in Hospital  Department Ward_Facility_Code  \\\n",
       "0                                  4  gynecology                  D   \n",
       "1                                  4  gynecology                  B   \n",
       "2                                  2  gynecology                  B   \n",
       "3                                  4  gynecology                  D   \n",
       "4                                  2  anesthesia                  E   \n",
       "\n",
       "  doctor_name  staff_available  patientid    Age  gender Type of Admission  \\\n",
       "0   Dr Sophia                0      33070  41-50  Female            Trauma   \n",
       "1   Dr Sophia                2      34808  31-40  Female            Trauma   \n",
       "2   Dr Sophia                8      44577  21-30  Female            Trauma   \n",
       "3   Dr Olivia                7       3695  31-40  Female            Urgent   \n",
       "4     Dr Mark               10     108956  71-80    Male            Trauma   \n",
       "\n",
       "  Severity of Illness health_conditions  Visitors with Patient Insurance  \\\n",
       "0             Extreme          Diabetes                      4       Yes   \n",
       "1               Minor     Heart disease                      2        No   \n",
       "2             Extreme          Diabetes                      2       Yes   \n",
       "3            Moderate              None                      4        No   \n",
       "4            Moderate          Diabetes                      2        No   \n",
       "\n",
       "   Admission_Deposit  Stay (in days)  Stay  \n",
       "0        2966.408696               8     0  \n",
       "1        3554.835677               9     1  \n",
       "2        5624.733654               7     0  \n",
       "3        4814.149231               8     0  \n",
       "4        5169.269637              34     1  "
      ]
     },
     "execution_count": 136,
     "metadata": {},
     "output_type": "execute_result"
    }
   ],
   "source": [
    "data_train.head()"
   ]
  },
  {
   "attachments": {},
   "cell_type": "markdown",
   "metadata": {},
   "source": [
    "Convertimos los datos de las features en datos numericos"
   ]
  },
  {
   "cell_type": "code",
   "execution_count": 138,
   "metadata": {},
   "outputs": [],
   "source": [
    "from sklearn import preprocessing\n",
    "le=preprocessing.LabelEncoder()"
   ]
  },
  {
   "cell_type": "code",
   "execution_count": 139,
   "metadata": {},
   "outputs": [],
   "source": [
    "data_train[\"Department\"]=le.fit_transform(data_train[\"Department\"])\n",
    "data_train[\"doctor_name\"]=le.fit_transform(data_train[\"doctor_name\"])\n",
    "data_train[\"Age\"]=le.fit_transform(data_train[\"Age\"])\n",
    "data_train[\"gender\"]=le.fit_transform(data_train[\"gender\"])\n",
    "data_train[\"Type of Admission\"]=le.fit_transform(data_train[\"Type of Admission\"])\n",
    "data_train[\"Severity of Illness\"]=le.fit_transform(data_train[\"Severity of Illness\"])\n",
    "data_train[\"health_conditions\"]=le.fit_transform(data_train[\"health_conditions\"])\n",
    "data_train[\"Insurance\"]=le.fit_transform(data_train[\"Insurance\"])"
   ]
  },
  {
   "cell_type": "code",
   "execution_count": 140,
   "metadata": {},
   "outputs": [
    {
     "data": {
      "text/html": [
       "<div>\n",
       "<style scoped>\n",
       "    .dataframe tbody tr th:only-of-type {\n",
       "        vertical-align: middle;\n",
       "    }\n",
       "\n",
       "    .dataframe tbody tr th {\n",
       "        vertical-align: top;\n",
       "    }\n",
       "\n",
       "    .dataframe thead th {\n",
       "        text-align: right;\n",
       "    }\n",
       "</style>\n",
       "<table border=\"1\" class=\"dataframe\">\n",
       "  <thead>\n",
       "    <tr style=\"text-align: right;\">\n",
       "      <th></th>\n",
       "      <th>Available Extra Rooms in Hospital</th>\n",
       "      <th>Department</th>\n",
       "      <th>Ward_Facility_Code</th>\n",
       "      <th>doctor_name</th>\n",
       "      <th>staff_available</th>\n",
       "      <th>patientid</th>\n",
       "      <th>Age</th>\n",
       "      <th>gender</th>\n",
       "      <th>Type of Admission</th>\n",
       "      <th>Severity of Illness</th>\n",
       "      <th>health_conditions</th>\n",
       "      <th>Visitors with Patient</th>\n",
       "      <th>Insurance</th>\n",
       "      <th>Admission_Deposit</th>\n",
       "      <th>Stay (in days)</th>\n",
       "      <th>Stay</th>\n",
       "    </tr>\n",
       "  </thead>\n",
       "  <tbody>\n",
       "    <tr>\n",
       "      <th>0</th>\n",
       "      <td>4</td>\n",
       "      <td>2</td>\n",
       "      <td>D</td>\n",
       "      <td>8</td>\n",
       "      <td>0</td>\n",
       "      <td>33070</td>\n",
       "      <td>4</td>\n",
       "      <td>0</td>\n",
       "      <td>1</td>\n",
       "      <td>0</td>\n",
       "      <td>1</td>\n",
       "      <td>4</td>\n",
       "      <td>1</td>\n",
       "      <td>2966.408696</td>\n",
       "      <td>8</td>\n",
       "      <td>0</td>\n",
       "    </tr>\n",
       "    <tr>\n",
       "      <th>1</th>\n",
       "      <td>4</td>\n",
       "      <td>2</td>\n",
       "      <td>B</td>\n",
       "      <td>8</td>\n",
       "      <td>2</td>\n",
       "      <td>34808</td>\n",
       "      <td>3</td>\n",
       "      <td>0</td>\n",
       "      <td>1</td>\n",
       "      <td>1</td>\n",
       "      <td>2</td>\n",
       "      <td>2</td>\n",
       "      <td>0</td>\n",
       "      <td>3554.835677</td>\n",
       "      <td>9</td>\n",
       "      <td>1</td>\n",
       "    </tr>\n",
       "    <tr>\n",
       "      <th>2</th>\n",
       "      <td>2</td>\n",
       "      <td>2</td>\n",
       "      <td>B</td>\n",
       "      <td>8</td>\n",
       "      <td>8</td>\n",
       "      <td>44577</td>\n",
       "      <td>2</td>\n",
       "      <td>0</td>\n",
       "      <td>1</td>\n",
       "      <td>0</td>\n",
       "      <td>1</td>\n",
       "      <td>2</td>\n",
       "      <td>1</td>\n",
       "      <td>5624.733654</td>\n",
       "      <td>7</td>\n",
       "      <td>0</td>\n",
       "    </tr>\n",
       "    <tr>\n",
       "      <th>3</th>\n",
       "      <td>4</td>\n",
       "      <td>2</td>\n",
       "      <td>D</td>\n",
       "      <td>4</td>\n",
       "      <td>7</td>\n",
       "      <td>3695</td>\n",
       "      <td>3</td>\n",
       "      <td>0</td>\n",
       "      <td>2</td>\n",
       "      <td>2</td>\n",
       "      <td>4</td>\n",
       "      <td>4</td>\n",
       "      <td>0</td>\n",
       "      <td>4814.149231</td>\n",
       "      <td>8</td>\n",
       "      <td>0</td>\n",
       "    </tr>\n",
       "    <tr>\n",
       "      <th>4</th>\n",
       "      <td>2</td>\n",
       "      <td>1</td>\n",
       "      <td>E</td>\n",
       "      <td>2</td>\n",
       "      <td>10</td>\n",
       "      <td>108956</td>\n",
       "      <td>7</td>\n",
       "      <td>1</td>\n",
       "      <td>1</td>\n",
       "      <td>2</td>\n",
       "      <td>1</td>\n",
       "      <td>2</td>\n",
       "      <td>0</td>\n",
       "      <td>5169.269637</td>\n",
       "      <td>34</td>\n",
       "      <td>1</td>\n",
       "    </tr>\n",
       "  </tbody>\n",
       "</table>\n",
       "</div>"
      ],
      "text/plain": [
       "   Available Extra Rooms in Hospital  Department Ward_Facility_Code  \\\n",
       "0                                  4           2                  D   \n",
       "1                                  4           2                  B   \n",
       "2                                  2           2                  B   \n",
       "3                                  4           2                  D   \n",
       "4                                  2           1                  E   \n",
       "\n",
       "   doctor_name  staff_available  patientid  Age  gender  Type of Admission  \\\n",
       "0            8                0      33070    4       0                  1   \n",
       "1            8                2      34808    3       0                  1   \n",
       "2            8                8      44577    2       0                  1   \n",
       "3            4                7       3695    3       0                  2   \n",
       "4            2               10     108956    7       1                  1   \n",
       "\n",
       "   Severity of Illness  health_conditions  Visitors with Patient  Insurance  \\\n",
       "0                    0                  1                      4          1   \n",
       "1                    1                  2                      2          0   \n",
       "2                    0                  1                      2          1   \n",
       "3                    2                  4                      4          0   \n",
       "4                    2                  1                      2          0   \n",
       "\n",
       "   Admission_Deposit  Stay (in days)  Stay  \n",
       "0        2966.408696               8     0  \n",
       "1        3554.835677               9     1  \n",
       "2        5624.733654               7     0  \n",
       "3        4814.149231               8     0  \n",
       "4        5169.269637              34     1  "
      ]
     },
     "execution_count": 140,
     "metadata": {},
     "output_type": "execute_result"
    }
   ],
   "source": [
    "# Corroboro la conversion\n",
    "data_train.head()"
   ]
  },
  {
   "attachments": {},
   "cell_type": "markdown",
   "metadata": {},
   "source": [
    "Utilizo método de correlación, para la selección de features\n"
   ]
  },
  {
   "cell_type": "code",
   "execution_count": 141,
   "metadata": {},
   "outputs": [
    {
     "data": {
      "text/html": [
       "<div>\n",
       "<style scoped>\n",
       "    .dataframe tbody tr th:only-of-type {\n",
       "        vertical-align: middle;\n",
       "    }\n",
       "\n",
       "    .dataframe tbody tr th {\n",
       "        vertical-align: top;\n",
       "    }\n",
       "\n",
       "    .dataframe thead th {\n",
       "        text-align: right;\n",
       "    }\n",
       "</style>\n",
       "<table border=\"1\" class=\"dataframe\">\n",
       "  <thead>\n",
       "    <tr style=\"text-align: right;\">\n",
       "      <th></th>\n",
       "      <th>Available Extra Rooms in Hospital</th>\n",
       "      <th>Department</th>\n",
       "      <th>doctor_name</th>\n",
       "      <th>staff_available</th>\n",
       "      <th>patientid</th>\n",
       "      <th>Age</th>\n",
       "      <th>gender</th>\n",
       "      <th>Type of Admission</th>\n",
       "      <th>Severity of Illness</th>\n",
       "      <th>health_conditions</th>\n",
       "      <th>Visitors with Patient</th>\n",
       "      <th>Insurance</th>\n",
       "      <th>Admission_Deposit</th>\n",
       "      <th>Stay (in days)</th>\n",
       "      <th>Stay</th>\n",
       "    </tr>\n",
       "  </thead>\n",
       "  <tbody>\n",
       "    <tr>\n",
       "      <th>Available Extra Rooms in Hospital</th>\n",
       "      <td>1.000000</td>\n",
       "      <td>-0.021235</td>\n",
       "      <td>0.015253</td>\n",
       "      <td>-0.003064</td>\n",
       "      <td>-0.005426</td>\n",
       "      <td>-0.029921</td>\n",
       "      <td>-0.038214</td>\n",
       "      <td>0.020866</td>\n",
       "      <td>0.024045</td>\n",
       "      <td>0.001643</td>\n",
       "      <td>0.071073</td>\n",
       "      <td>0.002438</td>\n",
       "      <td>-0.050775</td>\n",
       "      <td>-0.019383</td>\n",
       "      <td>0.053894</td>\n",
       "    </tr>\n",
       "    <tr>\n",
       "      <th>Department</th>\n",
       "      <td>-0.021235</td>\n",
       "      <td>1.000000</td>\n",
       "      <td>0.241001</td>\n",
       "      <td>0.016304</td>\n",
       "      <td>0.002997</td>\n",
       "      <td>0.013096</td>\n",
       "      <td>0.016474</td>\n",
       "      <td>-0.037395</td>\n",
       "      <td>0.014698</td>\n",
       "      <td>-0.000344</td>\n",
       "      <td>-0.034597</td>\n",
       "      <td>-0.000714</td>\n",
       "      <td>-0.009166</td>\n",
       "      <td>-0.204050</td>\n",
       "      <td>-0.173021</td>\n",
       "    </tr>\n",
       "    <tr>\n",
       "      <th>doctor_name</th>\n",
       "      <td>0.015253</td>\n",
       "      <td>0.241001</td>\n",
       "      <td>1.000000</td>\n",
       "      <td>-0.001162</td>\n",
       "      <td>-0.007540</td>\n",
       "      <td>-0.308142</td>\n",
       "      <td>-0.420330</td>\n",
       "      <td>-0.035731</td>\n",
       "      <td>-0.003980</td>\n",
       "      <td>-0.475721</td>\n",
       "      <td>-0.039543</td>\n",
       "      <td>-0.003544</td>\n",
       "      <td>-0.023484</td>\n",
       "      <td>-0.444867</td>\n",
       "      <td>-0.172526</td>\n",
       "    </tr>\n",
       "    <tr>\n",
       "      <th>staff_available</th>\n",
       "      <td>-0.003064</td>\n",
       "      <td>0.016304</td>\n",
       "      <td>-0.001162</td>\n",
       "      <td>1.000000</td>\n",
       "      <td>-0.000350</td>\n",
       "      <td>0.001818</td>\n",
       "      <td>0.003960</td>\n",
       "      <td>-0.002255</td>\n",
       "      <td>0.002759</td>\n",
       "      <td>-0.001500</td>\n",
       "      <td>0.001444</td>\n",
       "      <td>0.001245</td>\n",
       "      <td>0.000816</td>\n",
       "      <td>0.006673</td>\n",
       "      <td>0.002883</td>\n",
       "    </tr>\n",
       "    <tr>\n",
       "      <th>patientid</th>\n",
       "      <td>-0.005426</td>\n",
       "      <td>0.002997</td>\n",
       "      <td>-0.007540</td>\n",
       "      <td>-0.000350</td>\n",
       "      <td>1.000000</td>\n",
       "      <td>0.009765</td>\n",
       "      <td>0.010714</td>\n",
       "      <td>0.022615</td>\n",
       "      <td>-0.011138</td>\n",
       "      <td>0.002306</td>\n",
       "      <td>-0.006393</td>\n",
       "      <td>0.001827</td>\n",
       "      <td>0.011602</td>\n",
       "      <td>0.005567</td>\n",
       "      <td>-0.000532</td>\n",
       "    </tr>\n",
       "    <tr>\n",
       "      <th>Age</th>\n",
       "      <td>-0.029921</td>\n",
       "      <td>0.013096</td>\n",
       "      <td>-0.308142</td>\n",
       "      <td>0.001818</td>\n",
       "      <td>0.009765</td>\n",
       "      <td>1.000000</td>\n",
       "      <td>0.497530</td>\n",
       "      <td>0.005304</td>\n",
       "      <td>0.023350</td>\n",
       "      <td>0.037140</td>\n",
       "      <td>0.030136</td>\n",
       "      <td>-0.002472</td>\n",
       "      <td>0.016743</td>\n",
       "      <td>0.585201</td>\n",
       "      <td>0.229657</td>\n",
       "    </tr>\n",
       "    <tr>\n",
       "      <th>gender</th>\n",
       "      <td>-0.038214</td>\n",
       "      <td>0.016474</td>\n",
       "      <td>-0.420330</td>\n",
       "      <td>0.003960</td>\n",
       "      <td>0.010714</td>\n",
       "      <td>0.497530</td>\n",
       "      <td>1.000000</td>\n",
       "      <td>0.031566</td>\n",
       "      <td>0.029147</td>\n",
       "      <td>-0.000242</td>\n",
       "      <td>0.048435</td>\n",
       "      <td>0.001657</td>\n",
       "      <td>0.038189</td>\n",
       "      <td>0.589757</td>\n",
       "      <td>0.193878</td>\n",
       "    </tr>\n",
       "    <tr>\n",
       "      <th>Type of Admission</th>\n",
       "      <td>0.020866</td>\n",
       "      <td>-0.037395</td>\n",
       "      <td>-0.035731</td>\n",
       "      <td>-0.002255</td>\n",
       "      <td>0.022615</td>\n",
       "      <td>0.005304</td>\n",
       "      <td>0.031566</td>\n",
       "      <td>1.000000</td>\n",
       "      <td>-0.070795</td>\n",
       "      <td>0.001768</td>\n",
       "      <td>-0.020353</td>\n",
       "      <td>-0.002062</td>\n",
       "      <td>0.016885</td>\n",
       "      <td>0.035811</td>\n",
       "      <td>0.006233</td>\n",
       "    </tr>\n",
       "    <tr>\n",
       "      <th>Severity of Illness</th>\n",
       "      <td>0.024045</td>\n",
       "      <td>0.014698</td>\n",
       "      <td>-0.003980</td>\n",
       "      <td>0.002759</td>\n",
       "      <td>-0.011138</td>\n",
       "      <td>0.023350</td>\n",
       "      <td>0.029147</td>\n",
       "      <td>-0.070795</td>\n",
       "      <td>1.000000</td>\n",
       "      <td>0.214291</td>\n",
       "      <td>0.030199</td>\n",
       "      <td>0.001924</td>\n",
       "      <td>0.005637</td>\n",
       "      <td>0.024316</td>\n",
       "      <td>0.017030</td>\n",
       "    </tr>\n",
       "    <tr>\n",
       "      <th>health_conditions</th>\n",
       "      <td>0.001643</td>\n",
       "      <td>-0.000344</td>\n",
       "      <td>-0.475721</td>\n",
       "      <td>-0.001500</td>\n",
       "      <td>0.002306</td>\n",
       "      <td>0.037140</td>\n",
       "      <td>-0.000242</td>\n",
       "      <td>0.001768</td>\n",
       "      <td>0.214291</td>\n",
       "      <td>1.000000</td>\n",
       "      <td>-0.000117</td>\n",
       "      <td>0.008702</td>\n",
       "      <td>0.000412</td>\n",
       "      <td>0.001772</td>\n",
       "      <td>-0.002568</td>\n",
       "    </tr>\n",
       "    <tr>\n",
       "      <th>Visitors with Patient</th>\n",
       "      <td>0.071073</td>\n",
       "      <td>-0.034597</td>\n",
       "      <td>-0.039543</td>\n",
       "      <td>0.001444</td>\n",
       "      <td>-0.006393</td>\n",
       "      <td>0.030136</td>\n",
       "      <td>0.048435</td>\n",
       "      <td>-0.020353</td>\n",
       "      <td>0.030199</td>\n",
       "      <td>-0.000117</td>\n",
       "      <td>1.000000</td>\n",
       "      <td>0.025426</td>\n",
       "      <td>-0.069566</td>\n",
       "      <td>0.027284</td>\n",
       "      <td>-0.009529</td>\n",
       "    </tr>\n",
       "    <tr>\n",
       "      <th>Insurance</th>\n",
       "      <td>0.002438</td>\n",
       "      <td>-0.000714</td>\n",
       "      <td>-0.003544</td>\n",
       "      <td>0.001245</td>\n",
       "      <td>0.001827</td>\n",
       "      <td>-0.002472</td>\n",
       "      <td>0.001657</td>\n",
       "      <td>-0.002062</td>\n",
       "      <td>0.001924</td>\n",
       "      <td>0.008702</td>\n",
       "      <td>0.025426</td>\n",
       "      <td>1.000000</td>\n",
       "      <td>0.001164</td>\n",
       "      <td>-0.000947</td>\n",
       "      <td>-0.001063</td>\n",
       "    </tr>\n",
       "    <tr>\n",
       "      <th>Admission_Deposit</th>\n",
       "      <td>-0.050775</td>\n",
       "      <td>-0.009166</td>\n",
       "      <td>-0.023484</td>\n",
       "      <td>0.000816</td>\n",
       "      <td>0.011602</td>\n",
       "      <td>0.016743</td>\n",
       "      <td>0.038189</td>\n",
       "      <td>0.016885</td>\n",
       "      <td>0.005637</td>\n",
       "      <td>0.000412</td>\n",
       "      <td>-0.069566</td>\n",
       "      <td>0.001164</td>\n",
       "      <td>1.000000</td>\n",
       "      <td>0.043899</td>\n",
       "      <td>-0.016650</td>\n",
       "    </tr>\n",
       "    <tr>\n",
       "      <th>Stay (in days)</th>\n",
       "      <td>-0.019383</td>\n",
       "      <td>-0.204050</td>\n",
       "      <td>-0.444867</td>\n",
       "      <td>0.006673</td>\n",
       "      <td>0.005567</td>\n",
       "      <td>0.585201</td>\n",
       "      <td>0.589757</td>\n",
       "      <td>0.035811</td>\n",
       "      <td>0.024316</td>\n",
       "      <td>0.001772</td>\n",
       "      <td>0.027284</td>\n",
       "      <td>-0.000947</td>\n",
       "      <td>0.043899</td>\n",
       "      <td>1.000000</td>\n",
       "      <td>0.493378</td>\n",
       "    </tr>\n",
       "    <tr>\n",
       "      <th>Stay</th>\n",
       "      <td>0.053894</td>\n",
       "      <td>-0.173021</td>\n",
       "      <td>-0.172526</td>\n",
       "      <td>0.002883</td>\n",
       "      <td>-0.000532</td>\n",
       "      <td>0.229657</td>\n",
       "      <td>0.193878</td>\n",
       "      <td>0.006233</td>\n",
       "      <td>0.017030</td>\n",
       "      <td>-0.002568</td>\n",
       "      <td>-0.009529</td>\n",
       "      <td>-0.001063</td>\n",
       "      <td>-0.016650</td>\n",
       "      <td>0.493378</td>\n",
       "      <td>1.000000</td>\n",
       "    </tr>\n",
       "  </tbody>\n",
       "</table>\n",
       "</div>"
      ],
      "text/plain": [
       "                                   Available Extra Rooms in Hospital  \\\n",
       "Available Extra Rooms in Hospital                           1.000000   \n",
       "Department                                                 -0.021235   \n",
       "doctor_name                                                 0.015253   \n",
       "staff_available                                            -0.003064   \n",
       "patientid                                                  -0.005426   \n",
       "Age                                                        -0.029921   \n",
       "gender                                                     -0.038214   \n",
       "Type of Admission                                           0.020866   \n",
       "Severity of Illness                                         0.024045   \n",
       "health_conditions                                           0.001643   \n",
       "Visitors with Patient                                       0.071073   \n",
       "Insurance                                                   0.002438   \n",
       "Admission_Deposit                                          -0.050775   \n",
       "Stay (in days)                                             -0.019383   \n",
       "Stay                                                        0.053894   \n",
       "\n",
       "                                   Department  doctor_name  staff_available  \\\n",
       "Available Extra Rooms in Hospital   -0.021235     0.015253        -0.003064   \n",
       "Department                           1.000000     0.241001         0.016304   \n",
       "doctor_name                          0.241001     1.000000        -0.001162   \n",
       "staff_available                      0.016304    -0.001162         1.000000   \n",
       "patientid                            0.002997    -0.007540        -0.000350   \n",
       "Age                                  0.013096    -0.308142         0.001818   \n",
       "gender                               0.016474    -0.420330         0.003960   \n",
       "Type of Admission                   -0.037395    -0.035731        -0.002255   \n",
       "Severity of Illness                  0.014698    -0.003980         0.002759   \n",
       "health_conditions                   -0.000344    -0.475721        -0.001500   \n",
       "Visitors with Patient               -0.034597    -0.039543         0.001444   \n",
       "Insurance                           -0.000714    -0.003544         0.001245   \n",
       "Admission_Deposit                   -0.009166    -0.023484         0.000816   \n",
       "Stay (in days)                      -0.204050    -0.444867         0.006673   \n",
       "Stay                                -0.173021    -0.172526         0.002883   \n",
       "\n",
       "                                   patientid       Age    gender  \\\n",
       "Available Extra Rooms in Hospital  -0.005426 -0.029921 -0.038214   \n",
       "Department                          0.002997  0.013096  0.016474   \n",
       "doctor_name                        -0.007540 -0.308142 -0.420330   \n",
       "staff_available                    -0.000350  0.001818  0.003960   \n",
       "patientid                           1.000000  0.009765  0.010714   \n",
       "Age                                 0.009765  1.000000  0.497530   \n",
       "gender                              0.010714  0.497530  1.000000   \n",
       "Type of Admission                   0.022615  0.005304  0.031566   \n",
       "Severity of Illness                -0.011138  0.023350  0.029147   \n",
       "health_conditions                   0.002306  0.037140 -0.000242   \n",
       "Visitors with Patient              -0.006393  0.030136  0.048435   \n",
       "Insurance                           0.001827 -0.002472  0.001657   \n",
       "Admission_Deposit                   0.011602  0.016743  0.038189   \n",
       "Stay (in days)                      0.005567  0.585201  0.589757   \n",
       "Stay                               -0.000532  0.229657  0.193878   \n",
       "\n",
       "                                   Type of Admission  Severity of Illness  \\\n",
       "Available Extra Rooms in Hospital           0.020866             0.024045   \n",
       "Department                                 -0.037395             0.014698   \n",
       "doctor_name                                -0.035731            -0.003980   \n",
       "staff_available                            -0.002255             0.002759   \n",
       "patientid                                   0.022615            -0.011138   \n",
       "Age                                         0.005304             0.023350   \n",
       "gender                                      0.031566             0.029147   \n",
       "Type of Admission                           1.000000            -0.070795   \n",
       "Severity of Illness                        -0.070795             1.000000   \n",
       "health_conditions                           0.001768             0.214291   \n",
       "Visitors with Patient                      -0.020353             0.030199   \n",
       "Insurance                                  -0.002062             0.001924   \n",
       "Admission_Deposit                           0.016885             0.005637   \n",
       "Stay (in days)                              0.035811             0.024316   \n",
       "Stay                                        0.006233             0.017030   \n",
       "\n",
       "                                   health_conditions  Visitors with Patient  \\\n",
       "Available Extra Rooms in Hospital           0.001643               0.071073   \n",
       "Department                                 -0.000344              -0.034597   \n",
       "doctor_name                                -0.475721              -0.039543   \n",
       "staff_available                            -0.001500               0.001444   \n",
       "patientid                                   0.002306              -0.006393   \n",
       "Age                                         0.037140               0.030136   \n",
       "gender                                     -0.000242               0.048435   \n",
       "Type of Admission                           0.001768              -0.020353   \n",
       "Severity of Illness                         0.214291               0.030199   \n",
       "health_conditions                           1.000000              -0.000117   \n",
       "Visitors with Patient                      -0.000117               1.000000   \n",
       "Insurance                                   0.008702               0.025426   \n",
       "Admission_Deposit                           0.000412              -0.069566   \n",
       "Stay (in days)                              0.001772               0.027284   \n",
       "Stay                                       -0.002568              -0.009529   \n",
       "\n",
       "                                   Insurance  Admission_Deposit  \\\n",
       "Available Extra Rooms in Hospital   0.002438          -0.050775   \n",
       "Department                         -0.000714          -0.009166   \n",
       "doctor_name                        -0.003544          -0.023484   \n",
       "staff_available                     0.001245           0.000816   \n",
       "patientid                           0.001827           0.011602   \n",
       "Age                                -0.002472           0.016743   \n",
       "gender                              0.001657           0.038189   \n",
       "Type of Admission                  -0.002062           0.016885   \n",
       "Severity of Illness                 0.001924           0.005637   \n",
       "health_conditions                   0.008702           0.000412   \n",
       "Visitors with Patient               0.025426          -0.069566   \n",
       "Insurance                           1.000000           0.001164   \n",
       "Admission_Deposit                   0.001164           1.000000   \n",
       "Stay (in days)                     -0.000947           0.043899   \n",
       "Stay                               -0.001063          -0.016650   \n",
       "\n",
       "                                   Stay (in days)      Stay  \n",
       "Available Extra Rooms in Hospital       -0.019383  0.053894  \n",
       "Department                              -0.204050 -0.173021  \n",
       "doctor_name                             -0.444867 -0.172526  \n",
       "staff_available                          0.006673  0.002883  \n",
       "patientid                                0.005567 -0.000532  \n",
       "Age                                      0.585201  0.229657  \n",
       "gender                                   0.589757  0.193878  \n",
       "Type of Admission                        0.035811  0.006233  \n",
       "Severity of Illness                      0.024316  0.017030  \n",
       "health_conditions                        0.001772 -0.002568  \n",
       "Visitors with Patient                    0.027284 -0.009529  \n",
       "Insurance                               -0.000947 -0.001063  \n",
       "Admission_Deposit                        0.043899 -0.016650  \n",
       "Stay (in days)                           1.000000  0.493378  \n",
       "Stay                                     0.493378  1.000000  "
      ]
     },
     "execution_count": 141,
     "metadata": {},
     "output_type": "execute_result"
    }
   ],
   "source": [
    "data_train_corr=data_train.corr()\n",
    "data_train.corr()"
   ]
  },
  {
   "attachments": {},
   "cell_type": "markdown",
   "metadata": {},
   "source": [
    "Para una mejor y mas clara lectura, realizo una grafica de calor en base a las correlaciones"
   ]
  },
  {
   "cell_type": "code",
   "execution_count": 142,
   "metadata": {},
   "outputs": [
    {
     "data": {
      "text/plain": [
       "<AxesSubplot:>"
      ]
     },
     "execution_count": 142,
     "metadata": {},
     "output_type": "execute_result"
    },
    {
     "data": {
      "image/png": "[encoded data removed]",
      "text/plain": [
       "<Figure size 936x576 with 2 Axes>"
      ]
     },
     "metadata": {
      "needs_background": "light"
     },
     "output_type": "display_data"
    }
   ],
   "source": [
    "plt.figure(figsize=(13,8))\n",
    "sns.heatmap(data_train_corr, cbar = True,  square = False, annot=True, fmt= '.2f',cmap= 'coolwarm') "
   ]
  },
  {
   "attachments": {},
   "cell_type": "markdown",
   "metadata": {},
   "source": [
    "Selecciono las features que utilizaré con mi modelo"
   ]
  },
  {
   "cell_type": "code",
   "execution_count": 144,
   "metadata": {},
   "outputs": [],
   "source": [
    "data_train_colum = data_train[['doctor_name', 'Age', 'gender']]"
   ]
  },
  {
   "attachments": {},
   "cell_type": "markdown",
   "metadata": {},
   "source": [
    "Separamos el dataframe en features y etiquetas. Llamaremos **X** a los features e **y** a las etiquetas"
   ]
  },
  {
   "cell_type": "code",
   "execution_count": 145,
   "metadata": {},
   "outputs": [],
   "source": [
    "X = data_train_colum # Lo llamamos con X mayuscula ya que incluye más de un atributo\n",
    "y = data_train['Stay'] # Etiqueta a predecir"
   ]
  },
  {
   "attachments": {},
   "cell_type": "markdown",
   "metadata": {},
   "source": [
    "Tenemos las variables predictoras **X**, por un lado, y la varible a predecir **y**, por el otro, crearemos un modelo de árbol de decisión."
   ]
  },
  {
   "cell_type": "code",
   "execution_count": 146,
   "metadata": {},
   "outputs": [],
   "source": [
    "# Modulo que permite entrenar árboles de decisión\n",
    "from sklearn.tree import DecisionTreeClassifier\n",
    "\n",
    "# Modulo para realizar la cross-validation\n",
    "from sklearn.model_selection import cross_validate \n",
    "from IPython.display import clear_output"
   ]
  },
  {
   "attachments": {},
   "cell_type": "markdown",
   "metadata": {},
   "source": [
    "Separamos los datos en entrenamiento y de testeo. Utilizaremos el 20% del dataset para evaluar"
   ]
  },
  {
   "cell_type": "code",
   "execution_count": 147,
   "metadata": {},
   "outputs": [],
   "source": [
    "from sklearn.model_selection import train_test_split\n",
    "\n",
    "X_train, X_test, y_train, y_test = train_test_split(X, y, test_size = 0.20, random_state = 42)"
   ]
  },
  {
   "attachments": {},
   "cell_type": "markdown",
   "metadata": {},
   "source": [
    "Realizamos cross validation para definir la profundidad que tendra nuestro árbol:  *hiperparametro*"
   ]
  },
  {
   "cell_type": "code",
   "execution_count": 148,
   "metadata": {},
   "outputs": [],
   "source": [
    "tree_train_scores_mean = []\n",
    "tree_test_scores_mean = []\n",
    "\n",
    "max_deep_list = np.arange(1,15,1)\n",
    "i = 0\n",
    "i_max = len(max_deep_list)\n",
    "for profundidad in max_deep_list:\n",
    "    i = i + 1\n",
    "    clf = DecisionTreeClassifier(max_depth=profundidad)\n",
    "    tree_scores = cross_validate(clf, X, y, cv=5, return_train_score=True, n_jobs = -1)   \n",
    "    tree_train_scores_mean.append(tree_scores['train_score'].mean())\n",
    "    tree_test_scores_mean.append(tree_scores['test_score'].mean())"
   ]
  },
  {
   "attachments": {},
   "cell_type": "markdown",
   "metadata": {},
   "source": [
    "Grafico los datos obtenidos"
   ]
  },
  {
   "cell_type": "code",
   "execution_count": 149,
   "metadata": {},
   "outputs": [
    {
     "data": {
      "image/png": "[encoded data removed]",
      "text/plain": [
       "<Figure size 864x504 with 1 Axes>"
      ]
     },
     "metadata": {
      "needs_background": "light"
     },
     "output_type": "display_data"
    }
   ],
   "source": [
    "plt.figure(figsize= (12,7))\n",
    "plt.plot(max_deep_list, tree_train_scores_mean, color=\"r\", label=\"Set de entrenamiento\")\n",
    "plt.plot(max_deep_list, tree_test_scores_mean, color=\"g\", label=\"Set de testeo\")\n",
    "plt.title('Gráfico de ajuste del árbol de decision', fontsize = 15)\n",
    "plt.legend()\n",
    "plt.ylabel('Accuracy')\n",
    "plt.xlabel('Profundidad')\n",
    "plt.show()"
   ]
  },
  {
   "attachments": {},
   "cell_type": "markdown",
   "metadata": {},
   "source": [
    "**NOTA**: Observamos que el punto con mayor precisión, en los datos de testeo, lo obtenemos con un nivel de profundidad de 4 nodos. A partir de ahi, el modelo comienza a sobreajustar. "
   ]
  },
  {
   "attachments": {},
   "cell_type": "markdown",
   "metadata": {},
   "source": [
    "Instanciamos nuestro modelo de árbol de decisión"
   ]
  },
  {
   "cell_type": "code",
   "execution_count": 150,
   "metadata": {},
   "outputs": [],
   "source": [
    "from sklearn.tree import DecisionTreeClassifier\n",
    "\n",
    "model= DecisionTreeClassifier(max_depth = 4, random_state = 42) "
   ]
  },
  {
   "attachments": {},
   "cell_type": "markdown",
   "metadata": {},
   "source": [
    "Entrenamos el modelo"
   ]
  },
  {
   "cell_type": "code",
   "execution_count": 151,
   "metadata": {},
   "outputs": [
    {
     "data": {
      "text/html": [
       "<style>#sk-container-id-5 {color: black;background-color: white;}#sk-container-id-5 pre{padding: 0;}#sk-container-id-5 div.sk-toggleable {background-color: white;}#sk-container-id-5 label.sk-toggleable__label {cursor: pointer;display: block;width: 100%;margin-bottom: 0;padding: 0.3em;box-sizing: border-box;text-align: center;}#sk-container-id-5 label.sk-toggleable__label-arrow:before {content: \"▸\";float: left;margin-right: 0.25em;color: #696969;}#sk-container-id-5 label.sk-toggleable__label-arrow:hover:before {color: black;}#sk-container-id-5 div.sk-estimator:hover label.sk-toggleable__label-arrow:before {color: black;}#sk-container-id-5 div.sk-toggleable__content {max-height: 0;max-width: 0;overflow: hidden;text-align: left;background-color: #f0f8ff;}#sk-container-id-5 div.sk-toggleable__content pre {margin: 0.2em;color: black;border-radius: 0.25em;background-color: #f0f8ff;}#sk-container-id-5 input.sk-toggleable__control:checked~div.sk-toggleable__content {max-height: 200px;max-width: 100%;overflow: auto;}#sk-container-id-5 input.sk-toggleable__control:checked~label.sk-toggleable__label-arrow:before {content: \"▾\";}#sk-container-id-5 div.sk-estimator input.sk-toggleable__control:checked~label.sk-toggleable__label {background-color: #d4ebff;}#sk-container-id-5 div.sk-label input.sk-toggleable__control:checked~label.sk-toggleable__label {background-color: #d4ebff;}#sk-container-id-5 input.sk-hidden--visually {border: 0;clip: rect(1px 1px 1px 1px);clip: rect(1px, 1px, 1px, 1px);height: 1px;margin: -1px;overflow: hidden;padding: 0;position: absolute;width: 1px;}#sk-container-id-5 div.sk-estimator {font-family: monospace;background-color: #f0f8ff;border: 1px dotted black;border-radius: 0.25em;box-sizing: border-box;margin-bottom: 0.5em;}#sk-container-id-5 div.sk-estimator:hover {background-color: #d4ebff;}#sk-container-id-5 div.sk-parallel-item::after {content: \"\";width: 100%;border-bottom: 1px solid gray;flex-grow: 1;}#sk-container-id-5 div.sk-label:hover label.sk-toggleable__label {background-color: #d4ebff;}#sk-container-id-5 div.sk-serial::before {content: \"\";position: absolute;border-left: 1px solid gray;box-sizing: border-box;top: 0;bottom: 0;left: 50%;z-index: 0;}#sk-container-id-5 div.sk-serial {display: flex;flex-direction: column;align-items: center;background-color: white;padding-right: 0.2em;padding-left: 0.2em;position: relative;}#sk-container-id-5 div.sk-item {position: relative;z-index: 1;}#sk-container-id-5 div.sk-parallel {display: flex;align-items: stretch;justify-content: center;background-color: white;position: relative;}#sk-container-id-5 div.sk-item::before, #sk-container-id-5 div.sk-parallel-item::before {content: \"\";position: absolute;border-left: 1px solid gray;box-sizing: border-box;top: 0;bottom: 0;left: 50%;z-index: -1;}#sk-container-id-5 div.sk-parallel-item {display: flex;flex-direction: column;z-index: 1;position: relative;background-color: white;}#sk-container-id-5 div.sk-parallel-item:first-child::after {align-self: flex-end;width: 50%;}#sk-container-id-5 div.sk-parallel-item:last-child::after {align-self: flex-start;width: 50%;}#sk-container-id-5 div.sk-parallel-item:only-child::after {width: 0;}#sk-container-id-5 div.sk-dashed-wrapped {border: 1px dashed gray;margin: 0 0.4em 0.5em 0.4em;box-sizing: border-box;padding-bottom: 0.4em;background-color: white;}#sk-container-id-5 div.sk-label label {font-family: monospace;font-weight: bold;display: inline-block;line-height: 1.2em;}#sk-container-id-5 div.sk-label-container {text-align: center;}#sk-container-id-5 div.sk-container {/* jupyter's `normalize.less` sets `[hidden] { display: none; }` but bootstrap.min.css set `[hidden] { display: none !important; }` so we also need the `!important` here to be able to override the default hidden behavior on the sphinx rendered scikit-learn.org. See: https://github.com/scikit-learn/scikit-learn/issues/21755 */display: inline-block !important;position: relative;}#sk-container-id-5 div.sk-text-repr-fallback {display: none;}</style><div id=\"sk-container-id-5\" class=\"sk-top-container\"><div class=\"sk-text-repr-fallback\"><pre>DecisionTreeClassifier(max_depth=4, random_state=42)</pre><b>In a Jupyter environment, please rerun this cell to show the HTML representation or trust the notebook. <br />On GitHub, the HTML representation is unable to render, please try loading this page with nbviewer.org.</b></div><div class=\"sk-container\" hidden><div class=\"sk-item\"><div class=\"sk-estimator sk-toggleable\"><input class=\"sk-toggleable__control sk-hidden--visually\" id=\"sk-estimator-id-5\" type=\"checkbox\" checked><label for=\"sk-estimator-id-5\" class=\"sk-toggleable__label sk-toggleable__label-arrow\">DecisionTreeClassifier</label><div class=\"sk-toggleable__content\"><pre>DecisionTreeClassifier(max_depth=4, random_state=42)</pre></div></div></div></div></div>"
      ],
      "text/plain": [
       "DecisionTreeClassifier(max_depth=4, random_state=42)"
      ]
     },
     "execution_count": 151,
     "metadata": {},
     "output_type": "execute_result"
    }
   ],
   "source": [
    "model.fit(X_train, y_train)"
   ]
  },
  {
   "cell_type": "code",
   "execution_count": 153,
   "metadata": {},
   "outputs": [
    {
     "name": "stdout",
     "output_type": "stream",
     "text": [
      "[0 1]\n",
      "2\n",
      "3\n",
      "[0.16730498 0.76006871 0.07262631]\n"
     ]
    }
   ],
   "source": [
    "# Exploramos algunas de las características del modelo entrenado\n",
    "\n",
    "print(model.classes_)\n",
    "print(model.n_classes_)\n",
    "print(model.max_features_)\n",
    "print(model.feature_importances_)"
   ]
  },
  {
   "attachments": {},
   "cell_type": "markdown",
   "metadata": {},
   "source": [
    "Ploteamos la importancia de los atributos elegidos a la hora de hacer la predicción"
   ]
  },
  {
   "cell_type": "code",
   "execution_count": 155,
   "metadata": {},
   "outputs": [
    {
     "data": {
      "image/png": "[encoded data removed]",
      "text/plain": [
       "<Figure size 576x360 with 1 Axes>"
      ]
     },
     "metadata": {
      "needs_background": "light"
     },
     "output_type": "display_data"
    }
   ],
   "source": [
    "plt.figure(figsize = (8,5))\n",
    "\n",
    "importances = model.feature_importances_\n",
    "columns = X.columns\n",
    "sns.barplot(x = columns, y = importances)\n",
    "plt.title('Importancia de cada feature', fontsize = 15)\n",
    "plt.show()"
   ]
  },
  {
   "attachments": {},
   "cell_type": "markdown",
   "metadata": {},
   "source": [
    "Visualizamos el arbol de decisión"
   ]
  },
  {
   "cell_type": "code",
   "execution_count": 156,
   "metadata": {},
   "outputs": [
    {
     "data": {
      "image/png": "[encoded data removed]",
      "text/plain": [
       "<Figure size 1584x720 with 1 Axes>"
      ]
     },
     "metadata": {
      "needs_background": "light"
     },
     "output_type": "display_data"
    }
   ],
   "source": [
    "from sklearn import tree\n",
    "\n",
    "plt.figure(figsize = (22,10))\n",
    "tree.plot_tree(model.fit(X_train,y_train))\n",
    "plt.show()"
   ]
  },
  {
   "cell_type": "code",
   "execution_count": 157,
   "metadata": {},
   "outputs": [],
   "source": [
    "#Predecimos con el modelo creado\n",
    "y_train_pred = model.predict(X_train)\n",
    "\n",
    "# Predecimos sobre nuestro set de testeo\n",
    "y_test_pred = model.predict(X_test)"
   ]
  },
  {
   "attachments": {},
   "cell_type": "markdown",
   "metadata": {},
   "source": [
    "Evaluaremos nuestro modelo de clasificación"
   ]
  },
  {
   "attachments": {},
   "cell_type": "markdown",
   "metadata": {},
   "source": [
    "- Matriz de confusión"
   ]
  },
  {
   "cell_type": "code",
   "execution_count": 158,
   "metadata": {},
   "outputs": [],
   "source": [
    "from sklearn.metrics import confusion_matrix\n",
    "\n",
    "matrix = confusion_matrix(y_train, y_train_pred)"
   ]
  },
  {
   "attachments": {},
   "cell_type": "markdown",
   "metadata": {},
   "source": [
    "Grafico de matriz de confusión"
   ]
  },
  {
   "cell_type": "code",
   "execution_count": 161,
   "metadata": {},
   "outputs": [
    {
     "data": {
      "image/png": "[encoded data removed]",
      "text/plain": [
       "<Figure size 432x288 with 2 Axes>"
      ]
     },
     "metadata": {
      "needs_background": "light"
     },
     "output_type": "display_data"
    }
   ],
   "source": [
    "from sklearn.metrics import ConfusionMatrixDisplay\n",
    "\n",
    "cm_display = ConfusionMatrixDisplay(matrix)\n",
    "\n",
    "cm_display.plot()\n",
    "plt.show()\n"
   ]
  },
  {
   "attachments": {},
   "cell_type": "markdown",
   "metadata": {},
   "source": [
    "- Exactitud"
   ]
  },
  {
   "cell_type": "code",
   "execution_count": 162,
   "metadata": {},
   "outputs": [
    {
     "name": "stdout",
     "output_type": "stream",
     "text": [
      "0.6710365853658536\n"
     ]
    }
   ],
   "source": [
    "from sklearn.metrics import accuracy_score\n",
    "\n",
    "exactitud = accuracy_score(y_test, y_test_pred)\n",
    "print(exactitud)"
   ]
  },
  {
   "attachments": {},
   "cell_type": "markdown",
   "metadata": {},
   "source": [
    "- Precisión"
   ]
  },
  {
   "cell_type": "code",
   "execution_count": 163,
   "metadata": {},
   "outputs": [
    {
     "name": "stdout",
     "output_type": "stream",
     "text": [
      "0.6592524802376784\n"
     ]
    }
   ],
   "source": [
    "from sklearn.metrics import precision_score\n",
    "\n",
    "precision = precision_score(y_test, y_test_pred)\n",
    "print(precision)"
   ]
  },
  {
   "attachments": {},
   "cell_type": "markdown",
   "metadata": {},
   "source": [
    "- Recall"
   ]
  },
  {
   "cell_type": "code",
   "execution_count": 164,
   "metadata": {},
   "outputs": [
    {
     "name": "stdout",
     "output_type": "stream",
     "text": [
      "0.9748180980211418\n"
     ]
    }
   ],
   "source": [
    "from sklearn.metrics import recall_score\n",
    "\n",
    "precision = recall_score(y_test, y_test_pred)\n",
    "print(precision)"
   ]
  },
  {
   "attachments": {},
   "cell_type": "markdown",
   "metadata": {},
   "source": [
    "## Predicción"
   ]
  },
  {
   "attachments": {},
   "cell_type": "markdown",
   "metadata": {},
   "source": [
    "Se toma el dataframe creado al comienzo\"data_test\" y se realiza la predicción con nuestro modelo."
   ]
  },
  {
   "cell_type": "code",
   "execution_count": 165,
   "metadata": {},
   "outputs": [],
   "source": [
    "# Tomamos las features que aportan\n",
    "\n",
    "data_test = data_test[['doctor_name', 'Age', 'gender']]"
   ]
  },
  {
   "cell_type": "code",
   "execution_count": 166,
   "metadata": {},
   "outputs": [],
   "source": [
    "# Convertimos las features en datos numericos\n",
    "\n",
    "data_test[\"doctor_name\"]=le.fit_transform(data_test[\"doctor_name\"])\n",
    "data_test[\"Age\"]=le.fit_transform(data_test[\"Age\"])\n",
    "data_test[\"gender\"]=le.fit_transform(data_test[\"gender\"])\n"
   ]
  },
  {
   "cell_type": "code",
   "execution_count": 167,
   "metadata": {},
   "outputs": [],
   "source": [
    "#Se definen las variables independientes\n",
    "\n",
    "X_new=data_test[['doctor_name', 'Age', 'gender']]\n"
   ]
  },
  {
   "cell_type": "code",
   "execution_count": 168,
   "metadata": {},
   "outputs": [],
   "source": [
    "#predecimos con el modelo entrenado\n",
    "\n",
    "y_pred_new= model.predict(X_new)"
   ]
  },
  {
   "cell_type": "code",
   "execution_count": 169,
   "metadata": {},
   "outputs": [
    {
     "data": {
      "text/html": [
       "<div>\n",
       "<style scoped>\n",
       "    .dataframe tbody tr th:only-of-type {\n",
       "        vertical-align: middle;\n",
       "    }\n",
       "\n",
       "    .dataframe tbody tr th {\n",
       "        vertical-align: top;\n",
       "    }\n",
       "\n",
       "    .dataframe thead th {\n",
       "        text-align: right;\n",
       "    }\n",
       "</style>\n",
       "<table border=\"1\" class=\"dataframe\">\n",
       "  <thead>\n",
       "    <tr style=\"text-align: right;\">\n",
       "      <th></th>\n",
       "      <th>pred</th>\n",
       "    </tr>\n",
       "  </thead>\n",
       "  <tbody>\n",
       "    <tr>\n",
       "      <th>0</th>\n",
       "      <td>1</td>\n",
       "    </tr>\n",
       "    <tr>\n",
       "      <th>1</th>\n",
       "      <td>1</td>\n",
       "    </tr>\n",
       "    <tr>\n",
       "      <th>2</th>\n",
       "      <td>1</td>\n",
       "    </tr>\n",
       "    <tr>\n",
       "      <th>3</th>\n",
       "      <td>1</td>\n",
       "    </tr>\n",
       "    <tr>\n",
       "      <th>4</th>\n",
       "      <td>1</td>\n",
       "    </tr>\n",
       "    <tr>\n",
       "      <th>...</th>\n",
       "      <td>...</td>\n",
       "    </tr>\n",
       "    <tr>\n",
       "      <th>89995</th>\n",
       "      <td>1</td>\n",
       "    </tr>\n",
       "    <tr>\n",
       "      <th>89996</th>\n",
       "      <td>1</td>\n",
       "    </tr>\n",
       "    <tr>\n",
       "      <th>89997</th>\n",
       "      <td>1</td>\n",
       "    </tr>\n",
       "    <tr>\n",
       "      <th>89998</th>\n",
       "      <td>1</td>\n",
       "    </tr>\n",
       "    <tr>\n",
       "      <th>89999</th>\n",
       "      <td>1</td>\n",
       "    </tr>\n",
       "  </tbody>\n",
       "</table>\n",
       "<p>90000 rows × 1 columns</p>\n",
       "</div>"
      ],
      "text/plain": [
       "       pred\n",
       "0         1\n",
       "1         1\n",
       "2         1\n",
       "3         1\n",
       "4         1\n",
       "...     ...\n",
       "89995     1\n",
       "89996     1\n",
       "89997     1\n",
       "89998     1\n",
       "89999     1\n",
       "\n",
       "[90000 rows x 1 columns]"
      ]
     },
     "execution_count": 169,
     "metadata": {},
     "output_type": "execute_result"
    }
   ],
   "source": [
    "prediccion=pd.DataFrame(y_pred_new.reshape(-1,1),columns=[\"pred\"])\n",
    "prediccion"
   ]
  },
  {
   "attachments": {},
   "cell_type": "markdown",
   "metadata": {},
   "source": [
    "Exportamos a csv"
   ]
  },
  {
   "cell_type": "code",
   "execution_count": 170,
   "metadata": {},
   "outputs": [],
   "source": [
    "prediccion.to_csv(\"Sofiortiz.csv\",index=False)"
   ]
  }
 ],
 "metadata": {
  "kernelspec": {
   "display_name": "Python 3",
   "language": "python",
   "name": "python3"
  },
  "language_info": {
   "codemirror_mode": {
    "name": "ipython",
    "version": 3
   },
   "file_extension": ".py",
   "mimetype": "text/x-python",
   "name": "python",
   "nbconvert_exporter": "python",
   "pygments_lexer": "ipython3",
   "version": "3.10.5"
  },
  "orig_nbformat": 4,
  "vscode": {
   "interpreter": {
    "hash": "c63d8c7d738c2960218a10995aedf0a7f67a49a231e71037adf0440953cdb45b"
   }
  }
 },
 "nbformat": 4,
 "nbformat_minor": 2
}
